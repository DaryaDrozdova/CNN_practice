{
  "nbformat": 4,
  "nbformat_minor": 0,
  "metadata": {
    "colab": {
      "name": "problem_1.ipynb",
      "provenance": [],
      "collapsed_sections": []
    },
    "kernelspec": {
      "name": "python3",
      "display_name": "Python 3"
    },
    "widgets": {
      "application/vnd.jupyter.widget-state+json": {
        "66a781a7d3004061b021b8e0587e3010": {
          "model_module": "@jupyter-widgets/controls",
          "model_name": "HBoxModel",
          "state": {
            "_view_name": "HBoxView",
            "_dom_classes": [],
            "_model_name": "HBoxModel",
            "_view_module": "@jupyter-widgets/controls",
            "_model_module_version": "1.5.0",
            "_view_count": null,
            "_view_module_version": "1.5.0",
            "box_style": "",
            "layout": "IPY_MODEL_88bad6b6cde947de8ada8bfe698e4977",
            "_model_module": "@jupyter-widgets/controls",
            "children": [
              "IPY_MODEL_1a1409f3e44246f9b5a5ae952f9d0a58",
              "IPY_MODEL_3cc148c604a545ed9258bd25ec1bd501"
            ]
          }
        },
        "88bad6b6cde947de8ada8bfe698e4977": {
          "model_module": "@jupyter-widgets/base",
          "model_name": "LayoutModel",
          "state": {
            "_view_name": "LayoutView",
            "grid_template_rows": null,
            "right": null,
            "justify_content": null,
            "_view_module": "@jupyter-widgets/base",
            "overflow": null,
            "_model_module_version": "1.2.0",
            "_view_count": null,
            "flex_flow": null,
            "width": null,
            "min_width": null,
            "border": null,
            "align_items": null,
            "bottom": null,
            "_model_module": "@jupyter-widgets/base",
            "top": null,
            "grid_column": null,
            "overflow_y": null,
            "overflow_x": null,
            "grid_auto_flow": null,
            "grid_area": null,
            "grid_template_columns": null,
            "flex": null,
            "_model_name": "LayoutModel",
            "justify_items": null,
            "grid_row": null,
            "max_height": null,
            "align_content": null,
            "visibility": null,
            "align_self": null,
            "height": null,
            "min_height": null,
            "padding": null,
            "grid_auto_rows": null,
            "grid_gap": null,
            "max_width": null,
            "order": null,
            "_view_module_version": "1.2.0",
            "grid_template_areas": null,
            "object_position": null,
            "object_fit": null,
            "grid_auto_columns": null,
            "margin": null,
            "display": null,
            "left": null
          }
        },
        "1a1409f3e44246f9b5a5ae952f9d0a58": {
          "model_module": "@jupyter-widgets/controls",
          "model_name": "FloatProgressModel",
          "state": {
            "_view_name": "ProgressView",
            "style": "IPY_MODEL_c034d141bfb24603b5876123b77b02ac",
            "_dom_classes": [],
            "description": "100%",
            "_model_name": "FloatProgressModel",
            "bar_style": "success",
            "max": 450,
            "_view_module": "@jupyter-widgets/controls",
            "_model_module_version": "1.5.0",
            "value": 450,
            "_view_count": null,
            "_view_module_version": "1.5.0",
            "orientation": "horizontal",
            "min": 0,
            "description_tooltip": null,
            "_model_module": "@jupyter-widgets/controls",
            "layout": "IPY_MODEL_479b9d5549ec47169466146666461d76"
          }
        },
        "3cc148c604a545ed9258bd25ec1bd501": {
          "model_module": "@jupyter-widgets/controls",
          "model_name": "HTMLModel",
          "state": {
            "_view_name": "HTMLView",
            "style": "IPY_MODEL_304a95d0755c47009df8fcb2ed5cc7e8",
            "_dom_classes": [],
            "description": "",
            "_model_name": "HTMLModel",
            "placeholder": "​",
            "_view_module": "@jupyter-widgets/controls",
            "_model_module_version": "1.5.0",
            "value": " 450/450 [00:31&lt;00:00, 14.30it/s]",
            "_view_count": null,
            "_view_module_version": "1.5.0",
            "description_tooltip": null,
            "_model_module": "@jupyter-widgets/controls",
            "layout": "IPY_MODEL_a77eb96c67d54c6bb11d1168a2a761f1"
          }
        },
        "c034d141bfb24603b5876123b77b02ac": {
          "model_module": "@jupyter-widgets/controls",
          "model_name": "ProgressStyleModel",
          "state": {
            "_view_name": "StyleView",
            "_model_name": "ProgressStyleModel",
            "description_width": "initial",
            "_view_module": "@jupyter-widgets/base",
            "_model_module_version": "1.5.0",
            "_view_count": null,
            "_view_module_version": "1.2.0",
            "bar_color": null,
            "_model_module": "@jupyter-widgets/controls"
          }
        },
        "479b9d5549ec47169466146666461d76": {
          "model_module": "@jupyter-widgets/base",
          "model_name": "LayoutModel",
          "state": {
            "_view_name": "LayoutView",
            "grid_template_rows": null,
            "right": null,
            "justify_content": null,
            "_view_module": "@jupyter-widgets/base",
            "overflow": null,
            "_model_module_version": "1.2.0",
            "_view_count": null,
            "flex_flow": null,
            "width": null,
            "min_width": null,
            "border": null,
            "align_items": null,
            "bottom": null,
            "_model_module": "@jupyter-widgets/base",
            "top": null,
            "grid_column": null,
            "overflow_y": null,
            "overflow_x": null,
            "grid_auto_flow": null,
            "grid_area": null,
            "grid_template_columns": null,
            "flex": null,
            "_model_name": "LayoutModel",
            "justify_items": null,
            "grid_row": null,
            "max_height": null,
            "align_content": null,
            "visibility": null,
            "align_self": null,
            "height": null,
            "min_height": null,
            "padding": null,
            "grid_auto_rows": null,
            "grid_gap": null,
            "max_width": null,
            "order": null,
            "_view_module_version": "1.2.0",
            "grid_template_areas": null,
            "object_position": null,
            "object_fit": null,
            "grid_auto_columns": null,
            "margin": null,
            "display": null,
            "left": null
          }
        },
        "304a95d0755c47009df8fcb2ed5cc7e8": {
          "model_module": "@jupyter-widgets/controls",
          "model_name": "DescriptionStyleModel",
          "state": {
            "_view_name": "StyleView",
            "_model_name": "DescriptionStyleModel",
            "description_width": "",
            "_view_module": "@jupyter-widgets/base",
            "_model_module_version": "1.5.0",
            "_view_count": null,
            "_view_module_version": "1.2.0",
            "_model_module": "@jupyter-widgets/controls"
          }
        },
        "a77eb96c67d54c6bb11d1168a2a761f1": {
          "model_module": "@jupyter-widgets/base",
          "model_name": "LayoutModel",
          "state": {
            "_view_name": "LayoutView",
            "grid_template_rows": null,
            "right": null,
            "justify_content": null,
            "_view_module": "@jupyter-widgets/base",
            "overflow": null,
            "_model_module_version": "1.2.0",
            "_view_count": null,
            "flex_flow": null,
            "width": null,
            "min_width": null,
            "border": null,
            "align_items": null,
            "bottom": null,
            "_model_module": "@jupyter-widgets/base",
            "top": null,
            "grid_column": null,
            "overflow_y": null,
            "overflow_x": null,
            "grid_auto_flow": null,
            "grid_area": null,
            "grid_template_columns": null,
            "flex": null,
            "_model_name": "LayoutModel",
            "justify_items": null,
            "grid_row": null,
            "max_height": null,
            "align_content": null,
            "visibility": null,
            "align_self": null,
            "height": null,
            "min_height": null,
            "padding": null,
            "grid_auto_rows": null,
            "grid_gap": null,
            "max_width": null,
            "order": null,
            "_view_module_version": "1.2.0",
            "grid_template_areas": null,
            "object_position": null,
            "object_fit": null,
            "grid_auto_columns": null,
            "margin": null,
            "display": null,
            "left": null
          }
        },
        "0da1c51388ae4f86a2a2812eb16686bf": {
          "model_module": "@jupyter-widgets/controls",
          "model_name": "HBoxModel",
          "state": {
            "_view_name": "HBoxView",
            "_dom_classes": [],
            "_model_name": "HBoxModel",
            "_view_module": "@jupyter-widgets/controls",
            "_model_module_version": "1.5.0",
            "_view_count": null,
            "_view_module_version": "1.5.0",
            "box_style": "",
            "layout": "IPY_MODEL_ae1ad0df205647e89a61c06e887425e7",
            "_model_module": "@jupyter-widgets/controls",
            "children": [
              "IPY_MODEL_c32d3e55ed894555b4b9f62fec901e98",
              "IPY_MODEL_f1430fc47c56469abf3815d14ded0971"
            ]
          }
        },
        "ae1ad0df205647e89a61c06e887425e7": {
          "model_module": "@jupyter-widgets/base",
          "model_name": "LayoutModel",
          "state": {
            "_view_name": "LayoutView",
            "grid_template_rows": null,
            "right": null,
            "justify_content": null,
            "_view_module": "@jupyter-widgets/base",
            "overflow": null,
            "_model_module_version": "1.2.0",
            "_view_count": null,
            "flex_flow": null,
            "width": null,
            "min_width": null,
            "border": null,
            "align_items": null,
            "bottom": null,
            "_model_module": "@jupyter-widgets/base",
            "top": null,
            "grid_column": null,
            "overflow_y": null,
            "overflow_x": null,
            "grid_auto_flow": null,
            "grid_area": null,
            "grid_template_columns": null,
            "flex": null,
            "_model_name": "LayoutModel",
            "justify_items": null,
            "grid_row": null,
            "max_height": null,
            "align_content": null,
            "visibility": null,
            "align_self": null,
            "height": null,
            "min_height": null,
            "padding": null,
            "grid_auto_rows": null,
            "grid_gap": null,
            "max_width": null,
            "order": null,
            "_view_module_version": "1.2.0",
            "grid_template_areas": null,
            "object_position": null,
            "object_fit": null,
            "grid_auto_columns": null,
            "margin": null,
            "display": null,
            "left": null
          }
        },
        "c32d3e55ed894555b4b9f62fec901e98": {
          "model_module": "@jupyter-widgets/controls",
          "model_name": "FloatProgressModel",
          "state": {
            "_view_name": "ProgressView",
            "style": "IPY_MODEL_448cf854ce354b4a9c903a47f0ed0f0d",
            "_dom_classes": [],
            "description": "100%",
            "_model_name": "FloatProgressModel",
            "bar_style": "success",
            "max": 4500,
            "_view_module": "@jupyter-widgets/controls",
            "_model_module_version": "1.5.0",
            "value": 4500,
            "_view_count": null,
            "_view_module_version": "1.5.0",
            "orientation": "horizontal",
            "min": 0,
            "description_tooltip": null,
            "_model_module": "@jupyter-widgets/controls",
            "layout": "IPY_MODEL_febbb46afed54c20a15ac53395c6e8ab"
          }
        },
        "f1430fc47c56469abf3815d14ded0971": {
          "model_module": "@jupyter-widgets/controls",
          "model_name": "HTMLModel",
          "state": {
            "_view_name": "HTMLView",
            "style": "IPY_MODEL_e5714684f2ee4e42974d6fb747e15147",
            "_dom_classes": [],
            "description": "",
            "_model_name": "HTMLModel",
            "placeholder": "​",
            "_view_module": "@jupyter-widgets/controls",
            "_model_module_version": "1.5.0",
            "value": " 4500/4500 [01:36&lt;00:00, 46.59it/s]",
            "_view_count": null,
            "_view_module_version": "1.5.0",
            "description_tooltip": null,
            "_model_module": "@jupyter-widgets/controls",
            "layout": "IPY_MODEL_b0d50c9ceb264b6185072f1f19430292"
          }
        },
        "448cf854ce354b4a9c903a47f0ed0f0d": {
          "model_module": "@jupyter-widgets/controls",
          "model_name": "ProgressStyleModel",
          "state": {
            "_view_name": "StyleView",
            "_model_name": "ProgressStyleModel",
            "description_width": "initial",
            "_view_module": "@jupyter-widgets/base",
            "_model_module_version": "1.5.0",
            "_view_count": null,
            "_view_module_version": "1.2.0",
            "bar_color": null,
            "_model_module": "@jupyter-widgets/controls"
          }
        },
        "febbb46afed54c20a15ac53395c6e8ab": {
          "model_module": "@jupyter-widgets/base",
          "model_name": "LayoutModel",
          "state": {
            "_view_name": "LayoutView",
            "grid_template_rows": null,
            "right": null,
            "justify_content": null,
            "_view_module": "@jupyter-widgets/base",
            "overflow": null,
            "_model_module_version": "1.2.0",
            "_view_count": null,
            "flex_flow": null,
            "width": null,
            "min_width": null,
            "border": null,
            "align_items": null,
            "bottom": null,
            "_model_module": "@jupyter-widgets/base",
            "top": null,
            "grid_column": null,
            "overflow_y": null,
            "overflow_x": null,
            "grid_auto_flow": null,
            "grid_area": null,
            "grid_template_columns": null,
            "flex": null,
            "_model_name": "LayoutModel",
            "justify_items": null,
            "grid_row": null,
            "max_height": null,
            "align_content": null,
            "visibility": null,
            "align_self": null,
            "height": null,
            "min_height": null,
            "padding": null,
            "grid_auto_rows": null,
            "grid_gap": null,
            "max_width": null,
            "order": null,
            "_view_module_version": "1.2.0",
            "grid_template_areas": null,
            "object_position": null,
            "object_fit": null,
            "grid_auto_columns": null,
            "margin": null,
            "display": null,
            "left": null
          }
        },
        "e5714684f2ee4e42974d6fb747e15147": {
          "model_module": "@jupyter-widgets/controls",
          "model_name": "DescriptionStyleModel",
          "state": {
            "_view_name": "StyleView",
            "_model_name": "DescriptionStyleModel",
            "description_width": "",
            "_view_module": "@jupyter-widgets/base",
            "_model_module_version": "1.5.0",
            "_view_count": null,
            "_view_module_version": "1.2.0",
            "_model_module": "@jupyter-widgets/controls"
          }
        },
        "b0d50c9ceb264b6185072f1f19430292": {
          "model_module": "@jupyter-widgets/base",
          "model_name": "LayoutModel",
          "state": {
            "_view_name": "LayoutView",
            "grid_template_rows": null,
            "right": null,
            "justify_content": null,
            "_view_module": "@jupyter-widgets/base",
            "overflow": null,
            "_model_module_version": "1.2.0",
            "_view_count": null,
            "flex_flow": null,
            "width": null,
            "min_width": null,
            "border": null,
            "align_items": null,
            "bottom": null,
            "_model_module": "@jupyter-widgets/base",
            "top": null,
            "grid_column": null,
            "overflow_y": null,
            "overflow_x": null,
            "grid_auto_flow": null,
            "grid_area": null,
            "grid_template_columns": null,
            "flex": null,
            "_model_name": "LayoutModel",
            "justify_items": null,
            "grid_row": null,
            "max_height": null,
            "align_content": null,
            "visibility": null,
            "align_self": null,
            "height": null,
            "min_height": null,
            "padding": null,
            "grid_auto_rows": null,
            "grid_gap": null,
            "max_width": null,
            "order": null,
            "_view_module_version": "1.2.0",
            "grid_template_areas": null,
            "object_position": null,
            "object_fit": null,
            "grid_auto_columns": null,
            "margin": null,
            "display": null,
            "left": null
          }
        },
        "2a97a2608442420b9e0d3145af7225ee": {
          "model_module": "@jupyter-widgets/controls",
          "model_name": "HBoxModel",
          "state": {
            "_view_name": "HBoxView",
            "_dom_classes": [],
            "_model_name": "HBoxModel",
            "_view_module": "@jupyter-widgets/controls",
            "_model_module_version": "1.5.0",
            "_view_count": null,
            "_view_module_version": "1.5.0",
            "box_style": "",
            "layout": "IPY_MODEL_2ca94a464b484b089b9b1527f30c5e60",
            "_model_module": "@jupyter-widgets/controls",
            "children": [
              "IPY_MODEL_e559c55033f241ae94c1b9c493529906",
              "IPY_MODEL_fe7947c89c8f47768195333dc4566b6a"
            ]
          }
        },
        "2ca94a464b484b089b9b1527f30c5e60": {
          "model_module": "@jupyter-widgets/base",
          "model_name": "LayoutModel",
          "state": {
            "_view_name": "LayoutView",
            "grid_template_rows": null,
            "right": null,
            "justify_content": null,
            "_view_module": "@jupyter-widgets/base",
            "overflow": null,
            "_model_module_version": "1.2.0",
            "_view_count": null,
            "flex_flow": null,
            "width": null,
            "min_width": null,
            "border": null,
            "align_items": null,
            "bottom": null,
            "_model_module": "@jupyter-widgets/base",
            "top": null,
            "grid_column": null,
            "overflow_y": null,
            "overflow_x": null,
            "grid_auto_flow": null,
            "grid_area": null,
            "grid_template_columns": null,
            "flex": null,
            "_model_name": "LayoutModel",
            "justify_items": null,
            "grid_row": null,
            "max_height": null,
            "align_content": null,
            "visibility": null,
            "align_self": null,
            "height": null,
            "min_height": null,
            "padding": null,
            "grid_auto_rows": null,
            "grid_gap": null,
            "max_width": null,
            "order": null,
            "_view_module_version": "1.2.0",
            "grid_template_areas": null,
            "object_position": null,
            "object_fit": null,
            "grid_auto_columns": null,
            "margin": null,
            "display": null,
            "left": null
          }
        },
        "e559c55033f241ae94c1b9c493529906": {
          "model_module": "@jupyter-widgets/controls",
          "model_name": "FloatProgressModel",
          "state": {
            "_view_name": "ProgressView",
            "style": "IPY_MODEL_317301f53f814469876a9919d4ca9c76",
            "_dom_classes": [],
            "description": "100%",
            "_model_name": "FloatProgressModel",
            "bar_style": "success",
            "max": 4500,
            "_view_module": "@jupyter-widgets/controls",
            "_model_module_version": "1.5.0",
            "value": 4500,
            "_view_count": null,
            "_view_module_version": "1.5.0",
            "orientation": "horizontal",
            "min": 0,
            "description_tooltip": null,
            "_model_module": "@jupyter-widgets/controls",
            "layout": "IPY_MODEL_d97e48f2152d4c328741bca9dd0e0fff"
          }
        },
        "fe7947c89c8f47768195333dc4566b6a": {
          "model_module": "@jupyter-widgets/controls",
          "model_name": "HTMLModel",
          "state": {
            "_view_name": "HTMLView",
            "style": "IPY_MODEL_23bbc3a468094ca6af82e7e2d540f1a9",
            "_dom_classes": [],
            "description": "",
            "_model_name": "HTMLModel",
            "placeholder": "​",
            "_view_module": "@jupyter-widgets/controls",
            "_model_module_version": "1.5.0",
            "value": " 4500/4500 [00:23&lt;00:00, 193.55it/s]",
            "_view_count": null,
            "_view_module_version": "1.5.0",
            "description_tooltip": null,
            "_model_module": "@jupyter-widgets/controls",
            "layout": "IPY_MODEL_35c979ecb3f540d98100323bae495a0a"
          }
        },
        "317301f53f814469876a9919d4ca9c76": {
          "model_module": "@jupyter-widgets/controls",
          "model_name": "ProgressStyleModel",
          "state": {
            "_view_name": "StyleView",
            "_model_name": "ProgressStyleModel",
            "description_width": "initial",
            "_view_module": "@jupyter-widgets/base",
            "_model_module_version": "1.5.0",
            "_view_count": null,
            "_view_module_version": "1.2.0",
            "bar_color": null,
            "_model_module": "@jupyter-widgets/controls"
          }
        },
        "d97e48f2152d4c328741bca9dd0e0fff": {
          "model_module": "@jupyter-widgets/base",
          "model_name": "LayoutModel",
          "state": {
            "_view_name": "LayoutView",
            "grid_template_rows": null,
            "right": null,
            "justify_content": null,
            "_view_module": "@jupyter-widgets/base",
            "overflow": null,
            "_model_module_version": "1.2.0",
            "_view_count": null,
            "flex_flow": null,
            "width": null,
            "min_width": null,
            "border": null,
            "align_items": null,
            "bottom": null,
            "_model_module": "@jupyter-widgets/base",
            "top": null,
            "grid_column": null,
            "overflow_y": null,
            "overflow_x": null,
            "grid_auto_flow": null,
            "grid_area": null,
            "grid_template_columns": null,
            "flex": null,
            "_model_name": "LayoutModel",
            "justify_items": null,
            "grid_row": null,
            "max_height": null,
            "align_content": null,
            "visibility": null,
            "align_self": null,
            "height": null,
            "min_height": null,
            "padding": null,
            "grid_auto_rows": null,
            "grid_gap": null,
            "max_width": null,
            "order": null,
            "_view_module_version": "1.2.0",
            "grid_template_areas": null,
            "object_position": null,
            "object_fit": null,
            "grid_auto_columns": null,
            "margin": null,
            "display": null,
            "left": null
          }
        },
        "23bbc3a468094ca6af82e7e2d540f1a9": {
          "model_module": "@jupyter-widgets/controls",
          "model_name": "DescriptionStyleModel",
          "state": {
            "_view_name": "StyleView",
            "_model_name": "DescriptionStyleModel",
            "description_width": "",
            "_view_module": "@jupyter-widgets/base",
            "_model_module_version": "1.5.0",
            "_view_count": null,
            "_view_module_version": "1.2.0",
            "_model_module": "@jupyter-widgets/controls"
          }
        },
        "35c979ecb3f540d98100323bae495a0a": {
          "model_module": "@jupyter-widgets/base",
          "model_name": "LayoutModel",
          "state": {
            "_view_name": "LayoutView",
            "grid_template_rows": null,
            "right": null,
            "justify_content": null,
            "_view_module": "@jupyter-widgets/base",
            "overflow": null,
            "_model_module_version": "1.2.0",
            "_view_count": null,
            "flex_flow": null,
            "width": null,
            "min_width": null,
            "border": null,
            "align_items": null,
            "bottom": null,
            "_model_module": "@jupyter-widgets/base",
            "top": null,
            "grid_column": null,
            "overflow_y": null,
            "overflow_x": null,
            "grid_auto_flow": null,
            "grid_area": null,
            "grid_template_columns": null,
            "flex": null,
            "_model_name": "LayoutModel",
            "justify_items": null,
            "grid_row": null,
            "max_height": null,
            "align_content": null,
            "visibility": null,
            "align_self": null,
            "height": null,
            "min_height": null,
            "padding": null,
            "grid_auto_rows": null,
            "grid_gap": null,
            "max_width": null,
            "order": null,
            "_view_module_version": "1.2.0",
            "grid_template_areas": null,
            "object_position": null,
            "object_fit": null,
            "grid_auto_columns": null,
            "margin": null,
            "display": null,
            "left": null
          }
        },
        "2562a7d256e5499b94b19faec5335b66": {
          "model_module": "@jupyter-widgets/controls",
          "model_name": "HBoxModel",
          "state": {
            "_view_name": "HBoxView",
            "_dom_classes": [],
            "_model_name": "HBoxModel",
            "_view_module": "@jupyter-widgets/controls",
            "_model_module_version": "1.5.0",
            "_view_count": null,
            "_view_module_version": "1.5.0",
            "box_style": "",
            "layout": "IPY_MODEL_8f6cadce14614f99b83aecfde277013c",
            "_model_module": "@jupyter-widgets/controls",
            "children": [
              "IPY_MODEL_ba9f200b93ce491cb80f56db3db87b80",
              "IPY_MODEL_093523c5905f460f871006594bf5a9c0"
            ]
          }
        },
        "8f6cadce14614f99b83aecfde277013c": {
          "model_module": "@jupyter-widgets/base",
          "model_name": "LayoutModel",
          "state": {
            "_view_name": "LayoutView",
            "grid_template_rows": null,
            "right": null,
            "justify_content": null,
            "_view_module": "@jupyter-widgets/base",
            "overflow": null,
            "_model_module_version": "1.2.0",
            "_view_count": null,
            "flex_flow": null,
            "width": null,
            "min_width": null,
            "border": null,
            "align_items": null,
            "bottom": null,
            "_model_module": "@jupyter-widgets/base",
            "top": null,
            "grid_column": null,
            "overflow_y": null,
            "overflow_x": null,
            "grid_auto_flow": null,
            "grid_area": null,
            "grid_template_columns": null,
            "flex": null,
            "_model_name": "LayoutModel",
            "justify_items": null,
            "grid_row": null,
            "max_height": null,
            "align_content": null,
            "visibility": null,
            "align_self": null,
            "height": null,
            "min_height": null,
            "padding": null,
            "grid_auto_rows": null,
            "grid_gap": null,
            "max_width": null,
            "order": null,
            "_view_module_version": "1.2.0",
            "grid_template_areas": null,
            "object_position": null,
            "object_fit": null,
            "grid_auto_columns": null,
            "margin": null,
            "display": null,
            "left": null
          }
        },
        "ba9f200b93ce491cb80f56db3db87b80": {
          "model_module": "@jupyter-widgets/controls",
          "model_name": "FloatProgressModel",
          "state": {
            "_view_name": "ProgressView",
            "style": "IPY_MODEL_6454f15722f2446f9a7156b6dd5c6efc",
            "_dom_classes": [],
            "description": "100%",
            "_model_name": "FloatProgressModel",
            "bar_style": "success",
            "max": 1800,
            "_view_module": "@jupyter-widgets/controls",
            "_model_module_version": "1.5.0",
            "value": 1800,
            "_view_count": null,
            "_view_module_version": "1.5.0",
            "orientation": "horizontal",
            "min": 0,
            "description_tooltip": null,
            "_model_module": "@jupyter-widgets/controls",
            "layout": "IPY_MODEL_2a6d9ea6f4c74ae49456c6eb5e164b26"
          }
        },
        "093523c5905f460f871006594bf5a9c0": {
          "model_module": "@jupyter-widgets/controls",
          "model_name": "HTMLModel",
          "state": {
            "_view_name": "HTMLView",
            "style": "IPY_MODEL_3d99bbea423c47cd9eddb84e6be7bb5f",
            "_dom_classes": [],
            "description": "",
            "_model_name": "HTMLModel",
            "placeholder": "​",
            "_view_module": "@jupyter-widgets/controls",
            "_model_module_version": "1.5.0",
            "value": " 1800/1800 [00:09&lt;00:00, 191.09it/s]",
            "_view_count": null,
            "_view_module_version": "1.5.0",
            "description_tooltip": null,
            "_model_module": "@jupyter-widgets/controls",
            "layout": "IPY_MODEL_038126db2763497f84818ae474e055a4"
          }
        },
        "6454f15722f2446f9a7156b6dd5c6efc": {
          "model_module": "@jupyter-widgets/controls",
          "model_name": "ProgressStyleModel",
          "state": {
            "_view_name": "StyleView",
            "_model_name": "ProgressStyleModel",
            "description_width": "initial",
            "_view_module": "@jupyter-widgets/base",
            "_model_module_version": "1.5.0",
            "_view_count": null,
            "_view_module_version": "1.2.0",
            "bar_color": null,
            "_model_module": "@jupyter-widgets/controls"
          }
        },
        "2a6d9ea6f4c74ae49456c6eb5e164b26": {
          "model_module": "@jupyter-widgets/base",
          "model_name": "LayoutModel",
          "state": {
            "_view_name": "LayoutView",
            "grid_template_rows": null,
            "right": null,
            "justify_content": null,
            "_view_module": "@jupyter-widgets/base",
            "overflow": null,
            "_model_module_version": "1.2.0",
            "_view_count": null,
            "flex_flow": null,
            "width": null,
            "min_width": null,
            "border": null,
            "align_items": null,
            "bottom": null,
            "_model_module": "@jupyter-widgets/base",
            "top": null,
            "grid_column": null,
            "overflow_y": null,
            "overflow_x": null,
            "grid_auto_flow": null,
            "grid_area": null,
            "grid_template_columns": null,
            "flex": null,
            "_model_name": "LayoutModel",
            "justify_items": null,
            "grid_row": null,
            "max_height": null,
            "align_content": null,
            "visibility": null,
            "align_self": null,
            "height": null,
            "min_height": null,
            "padding": null,
            "grid_auto_rows": null,
            "grid_gap": null,
            "max_width": null,
            "order": null,
            "_view_module_version": "1.2.0",
            "grid_template_areas": null,
            "object_position": null,
            "object_fit": null,
            "grid_auto_columns": null,
            "margin": null,
            "display": null,
            "left": null
          }
        },
        "3d99bbea423c47cd9eddb84e6be7bb5f": {
          "model_module": "@jupyter-widgets/controls",
          "model_name": "DescriptionStyleModel",
          "state": {
            "_view_name": "StyleView",
            "_model_name": "DescriptionStyleModel",
            "description_width": "",
            "_view_module": "@jupyter-widgets/base",
            "_model_module_version": "1.5.0",
            "_view_count": null,
            "_view_module_version": "1.2.0",
            "_model_module": "@jupyter-widgets/controls"
          }
        },
        "038126db2763497f84818ae474e055a4": {
          "model_module": "@jupyter-widgets/base",
          "model_name": "LayoutModel",
          "state": {
            "_view_name": "LayoutView",
            "grid_template_rows": null,
            "right": null,
            "justify_content": null,
            "_view_module": "@jupyter-widgets/base",
            "overflow": null,
            "_model_module_version": "1.2.0",
            "_view_count": null,
            "flex_flow": null,
            "width": null,
            "min_width": null,
            "border": null,
            "align_items": null,
            "bottom": null,
            "_model_module": "@jupyter-widgets/base",
            "top": null,
            "grid_column": null,
            "overflow_y": null,
            "overflow_x": null,
            "grid_auto_flow": null,
            "grid_area": null,
            "grid_template_columns": null,
            "flex": null,
            "_model_name": "LayoutModel",
            "justify_items": null,
            "grid_row": null,
            "max_height": null,
            "align_content": null,
            "visibility": null,
            "align_self": null,
            "height": null,
            "min_height": null,
            "padding": null,
            "grid_auto_rows": null,
            "grid_gap": null,
            "max_width": null,
            "order": null,
            "_view_module_version": "1.2.0",
            "grid_template_areas": null,
            "object_position": null,
            "object_fit": null,
            "grid_auto_columns": null,
            "margin": null,
            "display": null,
            "left": null
          }
        }
      }
    },
    "accelerator": "GPU"
  },
  "cells": [
    {
      "cell_type": "markdown",
      "metadata": {
        "id": "atqZGIIyNSBb"
      },
      "source": [
        "#**Практическое задание №1**"
      ]
    },
    {
      "cell_type": "markdown",
      "metadata": {
        "id": "ga5g3lUhNNBy"
      },
      "source": [
        "Установка необходимых пакетов:"
      ]
    },
    {
      "cell_type": "code",
      "metadata": {
        "id": "TGBk36LpukIu"
      },
      "source": [
        "!pip install -q libtiff\n",
        "!pip install -q tqdm"
      ],
      "execution_count": 1,
      "outputs": []
    },
    {
      "cell_type": "markdown",
      "metadata": {
        "id": "2vQDLyHEO1Ux"
      },
      "source": [
        "Монтирование Вашего Google Drive к текущему окружению:"
      ]
    },
    {
      "cell_type": "code",
      "metadata": {
        "colab": {
          "base_uri": "https://localhost:8080/",
          "height": 0
        },
        "id": "5G5KkA1Nu5M9",
        "outputId": "85f1afa5-ff57-4691-b88d-b92694e3e1f8"
      },
      "source": [
        "from google.colab import drive\n",
        "drive.mount('/content/drive', force_remount=True)"
      ],
      "execution_count": 2,
      "outputs": [
        {
          "output_type": "stream",
          "text": [
            "Mounted at /content/drive\n"
          ],
          "name": "stdout"
        }
      ]
    },
    {
      "cell_type": "markdown",
      "metadata": {
        "id": "E6-mtI6W1y1b"
      },
      "source": [
        "В переменную PROJECT_DIR необходимо прописать путь к директории на Google Drive, в которую Вы загрузили zip архивы с предоставленными наборами данных."
      ]
    },
    {
      "cell_type": "code",
      "metadata": {
        "id": "IdvM-BUTvfSV"
      },
      "source": [
        "PROJECT_DIR = 'prak_nn_1_data/'"
      ],
      "execution_count": 3,
      "outputs": []
    },
    {
      "cell_type": "markdown",
      "metadata": {
        "id": "0Num5lHV6912"
      },
      "source": [
        "Константы, которые пригодятся в коде далее:"
      ]
    },
    {
      "cell_type": "code",
      "metadata": {
        "id": "ab2yCwDm7Fqb"
      },
      "source": [
        "EVALUATE_ONLY = False\r\n",
        "TEST_ON_LARGE_DATASET = True\r\n",
        "TISSUE_CLASSES = ('ADI', 'BACK', 'DEB', 'LYM', 'MUC', 'MUS', 'NORM', 'STR', 'TUM')"
      ],
      "execution_count": 4,
      "outputs": []
    },
    {
      "cell_type": "markdown",
      "metadata": {
        "id": "fgY-ux5qOI0k"
      },
      "source": [
        "Импорт необходимых зависимостей:"
      ]
    },
    {
      "cell_type": "code",
      "metadata": {
        "id": "kLHQhqiSIyvK"
      },
      "source": [
        "from pathlib import Path\n",
        "from libtiff import TIFF\n",
        "import numpy as np\n",
        "from typing import List\n",
        "from tqdm.notebook import tqdm\n",
        "from time import sleep\n",
        "from PIL import Image\n",
        "import IPython.display\n",
        "from sklearn.metrics import balanced_accuracy_score, confusion_matrix\n",
        "import matplotlib.pyplot as plt\n",
        "import tensorflow as tf\n",
        "import itertools"
      ],
      "execution_count": 5,
      "outputs": []
    },
    {
      "cell_type": "markdown",
      "metadata": {
        "id": "zKLI3lUyMYO9"
      },
      "source": [
        "---\n",
        "### Класс Dataset\n",
        "\n",
        "Предназначен для работы с наборами данных, хранящихся на Google Drive, обеспечивает чтение изображений и соответствующих меток, а также формирование пакетов (батчей)."
      ]
    },
    {
      "cell_type": "code",
      "metadata": {
        "id": "8N169efsw1ej"
      },
      "source": [
        "class Dataset:\r\n",
        "\r\n",
        "    def __init__(self, name, gdrive_dir):\r\n",
        "        self.name = name\r\n",
        "        self.is_loaded = False\r\n",
        "        p = Path(\"/content/drive/MyDrive/\" + gdrive_dir + name + '.npz') \r\n",
        "        if p.exists():\r\n",
        "            print(f'Loading dataset {self.name} from npz.')\r\n",
        "            np_obj = np.load(str(p))\r\n",
        "            self.images = np_obj['data']\r\n",
        "            self.labels = np_obj['labels']\r\n",
        "            self.n_files = self.images.shape[0]\r\n",
        "            self.is_loaded = True\r\n",
        "            print(f'Done. Dataset {name} consists of {self.n_files} images.')\r\n",
        "\r\n",
        "    def image(self, i):\r\n",
        "        # read i-th image in dataset and return it as numpy array\r\n",
        "        if self.is_loaded:\r\n",
        "            return self.images[i, :, :, :]\r\n",
        "\r\n",
        "    def images_seq(self, n=None):\r\n",
        "        # sequential access to images inside dataset (is needed for testing)\r\n",
        "        for i in range(self.n_files if not n else n):\r\n",
        "            yield self.image(i)\r\n",
        "\r\n",
        "    def random_image_with_label(self):\r\n",
        "        # get random image with label from dataset\r\n",
        "        i = np.random.randint(self.n_files)\r\n",
        "        return self.image(i), self.labels[i]\r\n",
        "  \r\n",
        "    def random_batch_with_labels(self, n):\r\n",
        "        # create random batch of images with labels (is needed for training)\r\n",
        "        indices = np.random.choice(self.n_files, n)\r\n",
        "        imgs = []\r\n",
        "        for i in indices:\r\n",
        "            img = self.image(i)\r\n",
        "            imgs.append(self.image(i))\r\n",
        "        logits = np.array([self.labels[i] for i in indices])\r\n",
        "        return np.stack(imgs), logits\r\n",
        "\r\n",
        "    def image_with_label(self, i: int):\r\n",
        "        # return i-th image with label from dataset\r\n",
        "        return self.image(i), self.labels[i]"
      ],
      "execution_count": 6,
      "outputs": []
    },
    {
      "cell_type": "markdown",
      "metadata": {
        "id": "M-LvGqeHYgus"
      },
      "source": [
        "### Пример использвания класса Dataset\n",
        "Загрузим обучающий набор данных, получим произвольное изображение с меткой. После чего визуализируем изображение, выведем метку. В будущем, этот кусок кода можно закомментировать или убрать."
      ]
    },
    {
      "cell_type": "code",
      "metadata": {
        "colab": {
          "base_uri": "https://localhost:8080/",
          "height": 342
        },
        "id": "HhObWEjGJ1um",
        "outputId": "27bb0414-2fc2-4c64-a467-7adc33bd9dae"
      },
      "source": [
        "d_train_tiny = Dataset('train_tiny', PROJECT_DIR)\n",
        "\n",
        "img, lbl = d_train_tiny.random_image_with_label()\n",
        "print()\n",
        "print(f'Got numpy array of shape {img.shape}, and label with code {lbl}.')\n",
        "print(f'Label code corresponds to {TISSUE_CLASSES[lbl]} class.')\n",
        "\n",
        "pil_img = Image.fromarray(img)\n",
        "IPython.display.display(pil_img)"
      ],
      "execution_count": null,
      "outputs": [
        {
          "output_type": "stream",
          "text": [
            "Loading dataset train_tiny from npz.\n",
            "Done. Dataset train_tiny consists of 900 images.\n",
            "\n",
            "Got numpy array of shape (224, 224, 3), and label with code 2.\n",
            "Label code corresponds to DEB class.\n",
            "Elments in the image list <class 'numpy.ndarray'>.\n"
          ],
          "name": "stdout"
        },
        {
          "output_type": "display_data",
          "data": {
            "image/png": "[encoded data removed]",
            "text/plain": [
              "<PIL.Image.Image image mode=RGB size=224x224 at 0x7F5593973D68>"
            ]
          },
          "metadata": {
            "tags": []
          }
        }
      ]
    },
    {
      "cell_type": "markdown",
      "metadata": {
        "id": "qaBXXCWeVLYb"
      },
      "source": [
        "---\n",
        "### Класс Metrics\n",
        "\n",
        "Реализует метрики точности, используемые для оценивания модели:\n",
        "1. точность,\n",
        "2. сбалансированную точность."
      ]
    },
    {
      "cell_type": "code",
      "metadata": {
        "id": "5unQ7azTinCZ"
      },
      "source": [
        "class Metrics:\n",
        "\n",
        "    @staticmethod\n",
        "    def accuracy(gt: List[int], pred: List[int]):\n",
        "        assert len(gt) == len(pred), 'gt and prediction should be of equal length'\n",
        "        return sum(int(i[0] == i[1]) for i in zip(gt, pred)) / len(gt)\n",
        "\n",
        "    @staticmethod\n",
        "    def accuracy_balanced(gt: List[int], pred: List[int]):\n",
        "        return balanced_accuracy_score(gt, pred)\n",
        "\n",
        "    @staticmethod\n",
        "    def print_all(gt: List[int], pred: List[int], info: str):\n",
        "        print(f'metrics for {info}:')\n",
        "        print('\\t accuracy {:.4f}:'.format(Metrics.accuracy(gt, pred)))\n",
        "        print('\\t balanced accuracy {:.4f}:'.format(Metrics.accuracy_balanced(gt, pred)))"
      ],
      "execution_count": 7,
      "outputs": []
    },
    {
      "cell_type": "markdown",
      "metadata": {
        "id": "N1AHzTJVGU5k"
      },
      "source": [
        "---\n",
        "### Класс Model\n",
        "\n",
        "Класс, хранящий в себе всю информацию о модели.\n",
        "\n",
        "Вам необходимо реализовать методы save, load для сохранения и заргрузки модели. Особенно актуально это будет во время тестирования на дополнительных наборах данных.\n",
        "\n",
        "> *Пожалуйста, убедитесь, что сохранение и загрузка модели работает корректно. Для этого обучите модель, протестируйте, сохраните ее в файл, перезапустите среду выполнения, загрузите обученную модель из файла, вновь протестируйте ее на тестовой выборке и убедитесь в том, что получаемые метрики совпадают с полученными для тестовой выбрки ранее.*\n",
        "\n",
        "\n",
        "Также, Вы можете реализовать дополнительные функции, такие как:\n",
        "1. валидацию модели на части обучающей выборки;\n",
        "2. использование кроссвалидации;\n",
        "3. автоматическое сохранение модели при обучении;\n",
        "4. загрузку модели с какой-то конкретной итерации обучения (если используется итеративное обучение);\n",
        "5. вывод различных показателей в процессе обучения (например, значение функции потерь на каждой эпохе);\n",
        "6. построение графиков, визуализирующих процесс обучения (например, график зависимости функции потерь от номера эпохи обучения);\n",
        "7. автоматическое тестирование на тестовом наборе/наборах данных после каждой эпохи обучения (при использовании итеративного обучения);\n",
        "8. автоматический выбор гиперпараметров модели во время обучения;\n",
        "9. сохранение и визуализацию результатов тестирования;\n",
        "10. Использование аугментации и других способов синтетического расширения набора данных (дополнительным плюсом будет обоснование необходимости и обоснование выбора конкретных типов аугментации)\n",
        "11. и т.д.\n",
        "\n",
        "Полный список опций и дополнений приведен в презентации с описанием задания.\n",
        "\n",
        "При реализации дополнительных функций допускается добавление параметров в существующие методы и добавление новых методов в класс модели."
      ]
    },
    {
      "cell_type": "code",
      "metadata": {
        "id": "0pkMiB6mJ7JQ"
      },
      "source": [
        "class Model:\n",
        "\n",
        "    def __init__(self):\n",
        "        model = tf.keras.models.Sequential([\n",
        "          tf.keras.layers.Conv2D(16, (3,3), activation='relu', padding=\"same\", input_shape=(224, 224, 3)),\n",
        "          tf.keras.layers.Conv2D(16, (3, 3), activation='relu', padding=\"same\"),\n",
        "          tf.keras.layers.MaxPooling2D(2, 2),\n",
        "\n",
        "\n",
        "          tf.keras.layers.Conv2D(32, (3, 3), activation='relu', padding=\"same\"),\n",
        "          tf.keras.layers.Conv2D(32, (3, 3), activation='relu', padding=\"same\"),\n",
        "          tf.keras.layers.MaxPooling2D(2, 2),\n",
        "          tf.keras.layers.Dropout(0.1),\n",
        "\n",
        "          tf.keras.layers.Conv2D(64, (3, 3), activation='relu', padding=\"same\"),\n",
        "          tf.keras.layers.Conv2D(64, (3, 3), activation='relu', padding=\"same\"),\n",
        "          tf.keras.layers.MaxPooling2D(2, 2),\n",
        "          tf.keras.layers.Dropout(0.1),\n",
        "\n",
        "          tf.keras.layers.Conv2D(128, (3, 3), activation='relu', padding=\"same\"),\n",
        "          tf.keras.layers.Conv2D(128, (3, 3), activation='relu', padding=\"same\"),\n",
        "          tf.keras.layers.MaxPooling2D(2, 2),\n",
        "\n",
        "          tf.keras.layers.Dropout(0.2),\n",
        "          tf.keras.layers.Flatten(),\n",
        "          tf.keras.layers.Dense(256, activation='relu', kernel_regularizer=tf.keras.regularizers.l2(0.1)),\n",
        "          tf.keras.layers.Dense(9, activation='softmax')\n",
        "        ])\n",
        "        model.compile(optimizer='adam',\n",
        "              loss='sparse_categorical_crossentropy',\n",
        "              metrics=['accuracy'])\n",
        "        self.model = model\n",
        "\n",
        "    def save(self, name: str):\n",
        "        p = Path(\"/content/drive/MyDrive/\" + PROJECT_DIR + name +'.h5')\n",
        "        self.model.save(p)\n",
        "\n",
        "    def load(self, name: str):\n",
        "        p = Path(\"/content/drive/MyDrive/\" + PROJECT_DIR + name + '.h5')\n",
        "        if p.exists():\n",
        "          self.model = tf.keras.models.load_model(p)\n",
        "\n",
        "    def train(self, dataset: Dataset):\n",
        "\n",
        "        print(f'training started')\n",
        "        x_train, y_train = dataset.images , dataset.labels\n",
        "        x_train = x_train\n",
        "        history = self.model.fit(x_train, y_train, batch_size=32, epochs=55)\n",
        "\n",
        "        #LB1 построение графиков\n",
        "        acc = history.history['accuracy']\n",
        "        loss = history.history['loss']\n",
        "\n",
        "        epochs_range = range(55)\n",
        "        plt.figure(figsize=(8,8))\n",
        "        plt.subplot(1, 2, 1)\n",
        "        plt.plot(epochs_range, acc, label='Точность на обучении')\n",
        "        plt.legend(loc='lower right')\n",
        "        plt.title('Точность на обучающих данных')\n",
        "\n",
        "        plt.subplot(1, 2, 2)\n",
        "        plt.plot(epochs_range, loss, label='Потери на обучении')\n",
        "        plt.legend(loc='upper right')\n",
        "        plt.title('Потери на обучающих данных')\n",
        "        plt.show()\n",
        "\n",
        "        print(f'training done')\n",
        "\n",
        "    def test_on_dataset(self, dataset: Dataset, limit=None):\n",
        "        predictions = []\n",
        "        n = dataset.n_files if not limit else int(dataset.n_files * limit)\n",
        "        for img in tqdm(dataset.images_seq(n), total=n):\n",
        "            predictions.append(self.test_on_image(img))\n",
        "        return predictions\n",
        "\n",
        "    def test_on_image(self, img: np.ndarray):\n",
        "        prediction = np.argmax(self.model(np.array([img])))\n",
        "        return prediction\n",
        "\n",
        "    #LB2 постоение матрицы ошибок\n",
        "    def confusion_matrix(self, dataset: Dataset):\n",
        "        predicted_labels = np.array(self.test_on_dataset(dataset))\n",
        "        cm = confusion_matrix(dataset.labels, predicted_labels)\n",
        "\n",
        "        plt.imshow(cm, interpolation='nearest', cmap=plt.cm.cool)\n",
        "        plt.title('Confusion matrix')\n",
        "        plt.colorbar()\n",
        "        tick_marks = np.arange(9)\n",
        "        plt.xticks(tick_marks, TISSUE_CLASSES, rotation=45)\n",
        "        plt.yticks(tick_marks, TISSUE_CLASSES)\n",
        "\n",
        "        thresh = cm.max() / 2.\n",
        "        for i, j in itertools.product(range(cm.shape[0]), range(cm.shape[1])):\n",
        "          plt.text(j, i, cm[i, j],\n",
        "              horizontalalignment=\"center\",\n",
        "              color=\"white\" if cm[i, j] > thresh else \"black\")\n",
        "\n",
        "        plt.tight_layout()\n",
        "        plt.ylabel('True label')\n",
        "        plt.xlabel('Predicted label')\n",
        "        plt.show()\n"
      ],
      "execution_count": 13,
      "outputs": []
    },
    {
      "cell_type": "markdown",
      "metadata": {
        "id": "ZMpTB6lMr00A"
      },
      "source": [
        "---\r\n",
        "### Классификация изображений\r\n",
        "\r\n",
        "Используя введенные выше классы можем перейти уже непосредственно к обучению модели классификации изображений. Пример общего пайплайна решения задачи приведен ниже. Вы можете его расширять и улучшать. В данном примере используются наборы данных 'train_small' и 'test_small'."
      ]
    },
    {
      "cell_type": "code",
      "metadata": {
        "colab": {
          "base_uri": "https://localhost:8080/",
          "height": 0
        },
        "id": "5cTOuZD01Up6",
        "outputId": "480e2652-1d7d-4d4d-e596-e29e5bcf116e"
      },
      "source": [
        "d_train = Dataset('train', PROJECT_DIR)\r\n",
        "d_test = Dataset('test', PROJECT_DIR)"
      ],
      "execution_count": 9,
      "outputs": [
        {
          "output_type": "stream",
          "text": [
            "Loading dataset train from npz.\n",
            "Done. Dataset train consists of 18000 images.\n",
            "Loading dataset test from npz.\n",
            "Done. Dataset test consists of 4500 images.\n"
          ],
          "name": "stdout"
        }
      ]
    },
    {
      "cell_type": "code",
      "metadata": {
        "id": "wBi0XpXg8_wq",
        "colab": {
          "base_uri": "https://localhost:8080/",
          "height": 2381
        },
        "outputId": "ccd281d0-d209-4d51-8304-23e3fe59f602"
      },
      "source": [
        "model = Model()\n",
        "if not EVALUATE_ONLY:\n",
        "    model.train(d_train)\n",
        "    model.save('best')\n",
        "else:\n",
        "    model.load('best')"
      ],
      "execution_count": 14,
      "outputs": [
        {
          "output_type": "stream",
          "text": [
            "training started\n",
            "Epoch 1/55\n",
            "563/563 [==============================] - 38s 66ms/step - loss: 19.4999 - accuracy: 0.1405\n",
            "Epoch 2/55\n",
            "563/563 [==============================] - 37s 66ms/step - loss: 1.6105 - accuracy: 0.4641\n",
            "Epoch 3/55\n",
            "563/563 [==============================] - 37s 66ms/step - loss: 1.3255 - accuracy: 0.5774\n",
            "Epoch 4/55\n",
            "563/563 [==============================] - 37s 66ms/step - loss: 1.1952 - accuracy: 0.6678\n",
            "Epoch 5/55\n",
            "563/563 [==============================] - 37s 66ms/step - loss: 1.0738 - accuracy: 0.7243\n",
            "Epoch 6/55\n",
            "563/563 [==============================] - 37s 66ms/step - loss: 0.9396 - accuracy: 0.7619\n",
            "Epoch 7/55\n",
            "563/563 [==============================] - 37s 66ms/step - loss: 0.8633 - accuracy: 0.7958\n",
            "Epoch 8/55\n",
            "563/563 [==============================] - 37s 66ms/step - loss: 0.7419 - accuracy: 0.8232\n",
            "Epoch 9/55\n",
            "563/563 [==============================] - 37s 66ms/step - loss: 0.7147 - accuracy: 0.8255\n",
            "Epoch 10/55\n",
            "563/563 [==============================] - 37s 66ms/step - loss: 0.6419 - accuracy: 0.8552\n",
            "Epoch 11/55\n",
            "563/563 [==============================] - 37s 66ms/step - loss: 0.5658 - accuracy: 0.8759\n",
            "Epoch 12/55\n",
            "563/563 [==============================] - 37s 66ms/step - loss: 0.5427 - accuracy: 0.8855\n",
            "Epoch 13/55\n",
            "563/563 [==============================] - 37s 66ms/step - loss: 0.5079 - accuracy: 0.8988\n",
            "Epoch 14/55\n",
            "563/563 [==============================] - 37s 66ms/step - loss: 0.5060 - accuracy: 0.8981\n",
            "Epoch 15/55\n",
            "563/563 [==============================] - 37s 66ms/step - loss: 0.4606 - accuracy: 0.9118\n",
            "Epoch 16/55\n",
            "563/563 [==============================] - 37s 66ms/step - loss: 0.4373 - accuracy: 0.9142\n",
            "Epoch 17/55\n",
            "563/563 [==============================] - 37s 66ms/step - loss: 0.4216 - accuracy: 0.9249\n",
            "Epoch 18/55\n",
            "563/563 [==============================] - 37s 66ms/step - loss: 0.4121 - accuracy: 0.9222\n",
            "Epoch 19/55\n",
            "563/563 [==============================] - 37s 66ms/step - loss: 0.4281 - accuracy: 0.9219\n",
            "Epoch 20/55\n",
            "563/563 [==============================] - 37s 66ms/step - loss: 0.3985 - accuracy: 0.9272\n",
            "Epoch 21/55\n",
            "563/563 [==============================] - 37s 66ms/step - loss: 0.3645 - accuracy: 0.9396\n",
            "Epoch 22/55\n",
            "563/563 [==============================] - 37s 66ms/step - loss: 0.3588 - accuracy: 0.9388\n",
            "Epoch 23/55\n",
            "563/563 [==============================] - 37s 66ms/step - loss: 0.3536 - accuracy: 0.9423\n",
            "Epoch 24/55\n",
            "563/563 [==============================] - 37s 66ms/step - loss: 0.3362 - accuracy: 0.9419\n",
            "Epoch 25/55\n",
            "563/563 [==============================] - 37s 66ms/step - loss: 0.3018 - accuracy: 0.9510\n",
            "Epoch 26/55\n",
            "563/563 [==============================] - 37s 66ms/step - loss: 0.3612 - accuracy: 0.9411\n",
            "Epoch 27/55\n",
            "563/563 [==============================] - 37s 66ms/step - loss: 0.3428 - accuracy: 0.9439\n",
            "Epoch 28/55\n",
            "563/563 [==============================] - 37s 66ms/step - loss: 0.4523 - accuracy: 0.9306\n",
            "Epoch 29/55\n",
            "563/563 [==============================] - 37s 66ms/step - loss: 0.2885 - accuracy: 0.9603\n",
            "Epoch 30/55\n",
            "563/563 [==============================] - 37s 66ms/step - loss: 0.3340 - accuracy: 0.9495\n",
            "Epoch 31/55\n",
            "563/563 [==============================] - 37s 65ms/step - loss: 0.4283 - accuracy: 0.9361\n",
            "Epoch 32/55\n",
            "563/563 [==============================] - 37s 65ms/step - loss: 0.2957 - accuracy: 0.9566\n",
            "Epoch 33/55\n",
            "563/563 [==============================] - 37s 66ms/step - loss: 0.2753 - accuracy: 0.9575\n",
            "Epoch 34/55\n",
            "563/563 [==============================] - 37s 66ms/step - loss: 0.2838 - accuracy: 0.9568\n",
            "Epoch 35/55\n",
            "563/563 [==============================] - 37s 65ms/step - loss: 0.3288 - accuracy: 0.9554\n",
            "Epoch 36/55\n",
            "563/563 [==============================] - 37s 66ms/step - loss: 0.2818 - accuracy: 0.9617\n",
            "Epoch 37/55\n",
            "563/563 [==============================] - 37s 65ms/step - loss: 0.3026 - accuracy: 0.9565\n",
            "Epoch 38/55\n",
            "563/563 [==============================] - 37s 65ms/step - loss: 0.3323 - accuracy: 0.9506\n",
            "Epoch 39/55\n",
            "563/563 [==============================] - 37s 65ms/step - loss: 0.2727 - accuracy: 0.9620\n",
            "Epoch 40/55\n",
            "563/563 [==============================] - 37s 65ms/step - loss: 0.3298 - accuracy: 0.9576\n",
            "Epoch 41/55\n",
            "563/563 [==============================] - 37s 65ms/step - loss: 0.3175 - accuracy: 0.9602\n",
            "Epoch 42/55\n",
            "563/563 [==============================] - 37s 65ms/step - loss: 0.3214 - accuracy: 0.9587\n",
            "Epoch 43/55\n",
            "563/563 [==============================] - 37s 65ms/step - loss: 0.3307 - accuracy: 0.9623\n",
            "Epoch 44/55\n",
            "563/563 [==============================] - 37s 65ms/step - loss: 0.3361 - accuracy: 0.9592\n",
            "Epoch 45/55\n",
            "563/563 [==============================] - 37s 65ms/step - loss: 0.3553 - accuracy: 0.9598\n",
            "Epoch 46/55\n",
            "563/563 [==============================] - 37s 65ms/step - loss: 0.3558 - accuracy: 0.9618\n",
            "Epoch 47/55\n",
            "563/563 [==============================] - 37s 65ms/step - loss: 0.3110 - accuracy: 0.9629\n",
            "Epoch 48/55\n",
            "563/563 [==============================] - 37s 65ms/step - loss: 0.2897 - accuracy: 0.9617\n",
            "Epoch 49/55\n",
            "563/563 [==============================] - 37s 65ms/step - loss: 0.2940 - accuracy: 0.9636\n",
            "Epoch 50/55\n",
            "563/563 [==============================] - 37s 65ms/step - loss: 0.3179 - accuracy: 0.9621\n",
            "Epoch 51/55\n",
            "563/563 [==============================] - 37s 65ms/step - loss: 0.3124 - accuracy: 0.9685\n",
            "Epoch 52/55\n",
            "563/563 [==============================] - 37s 65ms/step - loss: 0.3474 - accuracy: 0.9582\n",
            "Epoch 53/55\n",
            "563/563 [==============================] - 37s 65ms/step - loss: 0.3029 - accuracy: 0.9688\n",
            "Epoch 54/55\n",
            "563/563 [==============================] - 37s 65ms/step - loss: 0.3443 - accuracy: 0.9602\n",
            "Epoch 55/55\n",
            "563/563 [==============================] - 37s 65ms/step - loss: 0.3256 - accuracy: 0.9599\n"
          ],
          "name": "stdout"
        },
        {
          "output_type": "display_data",
          "data": {
            "image/png": "[encoded data removed]",
            "text/plain": [
              "<Figure size 576x576 with 2 Axes>"
            ]
          },
          "metadata": {
            "tags": [],
            "needs_background": "light"
          }
        },
        {
          "output_type": "stream",
          "text": [
            "training done\n"
          ],
          "name": "stdout"
        }
      ]
    },
    {
      "cell_type": "markdown",
      "metadata": {
        "id": "CcM2EiRMVP93"
      },
      "source": [
        "Пример тестирования модели на части набора данных:"
      ]
    },
    {
      "cell_type": "code",
      "metadata": {
        "id": "I0AqmeLEKqrs",
        "colab": {
          "base_uri": "https://localhost:8080/",
          "height": 150,
          "referenced_widgets": [
            "66a781a7d3004061b021b8e0587e3010",
            "88bad6b6cde947de8ada8bfe698e4977",
            "1a1409f3e44246f9b5a5ae952f9d0a58",
            "3cc148c604a545ed9258bd25ec1bd501",
            "c034d141bfb24603b5876123b77b02ac",
            "479b9d5549ec47169466146666461d76",
            "304a95d0755c47009df8fcb2ed5cc7e8",
            "a77eb96c67d54c6bb11d1168a2a761f1"
          ]
        },
        "outputId": "26eca898-6abb-46c3-b1b6-c2f878070ff5"
      },
      "source": [
        "# evaluating model on 10% of test dataset\r\n",
        "pred_1 = model.test_on_dataset(d_test, limit=0.1)\r\n",
        "Metrics.print_all(d_test.labels[:len(pred_1)], pred_1, '10% of test')"
      ],
      "execution_count": 16,
      "outputs": [
        {
          "output_type": "display_data",
          "data": {
            "application/vnd.jupyter.widget-view+json": {
              "model_id": "66a781a7d3004061b021b8e0587e3010",
              "version_minor": 0,
              "version_major": 2
            },
            "text/plain": [
              "HBox(children=(FloatProgress(value=0.0, max=450.0), HTML(value='')))"
            ]
          },
          "metadata": {
            "tags": []
          }
        },
        {
          "output_type": "stream",
          "text": [
            "\n",
            "metrics for 10% of test:\n",
            "\t accuracy 0.9956:\n",
            "\t balanced accuracy 0.9956:\n"
          ],
          "name": "stdout"
        },
        {
          "output_type": "stream",
          "text": [
            "/usr/local/lib/python3.6/dist-packages/sklearn/metrics/_classification.py:1859: UserWarning: y_pred contains classes not in y_true\n",
            "  warnings.warn('y_pred contains classes not in y_true')\n"
          ],
          "name": "stderr"
        }
      ]
    },
    {
      "cell_type": "markdown",
      "metadata": {
        "id": "mSwvHVVzVWZ5"
      },
      "source": [
        "Пример тестирования модели на полном наборе данных:"
      ]
    },
    {
      "cell_type": "code",
      "metadata": {
        "id": "mjI_sbMi3TMY",
        "colab": {
          "base_uri": "https://localhost:8080/",
          "height": 116,
          "referenced_widgets": [
            "0da1c51388ae4f86a2a2812eb16686bf",
            "ae1ad0df205647e89a61c06e887425e7",
            "c32d3e55ed894555b4b9f62fec901e98",
            "f1430fc47c56469abf3815d14ded0971",
            "448cf854ce354b4a9c903a47f0ed0f0d",
            "febbb46afed54c20a15ac53395c6e8ab",
            "e5714684f2ee4e42974d6fb747e15147",
            "b0d50c9ceb264b6185072f1f19430292"
          ]
        },
        "outputId": "aa69c9ed-4d55-4509-9fb1-a1ec5f596495"
      },
      "source": [
        "# evaluating model on full test dataset (may take time)\r\n",
        "if TEST_ON_LARGE_DATASET:\r\n",
        "    pred_2 = model.test_on_dataset(d_test)\r\n",
        "    Metrics.print_all(d_test.labels, pred_2, 'test')"
      ],
      "execution_count": 15,
      "outputs": [
        {
          "output_type": "display_data",
          "data": {
            "application/vnd.jupyter.widget-view+json": {
              "model_id": "0da1c51388ae4f86a2a2812eb16686bf",
              "version_minor": 0,
              "version_major": 2
            },
            "text/plain": [
              "HBox(children=(FloatProgress(value=0.0, max=4500.0), HTML(value='')))"
            ]
          },
          "metadata": {
            "tags": []
          }
        },
        {
          "output_type": "stream",
          "text": [
            "\n",
            "metrics for test:\n",
            "\t accuracy 0.9638:\n",
            "\t balanced accuracy 0.9638:\n"
          ],
          "name": "stdout"
        }
      ]
    },
    {
      "cell_type": "code",
      "metadata": {
        "colab": {
          "base_uri": "https://localhost:8080/",
          "height": 360,
          "referenced_widgets": [
            "2a97a2608442420b9e0d3145af7225ee",
            "2ca94a464b484b089b9b1527f30c5e60",
            "e559c55033f241ae94c1b9c493529906",
            "fe7947c89c8f47768195333dc4566b6a",
            "317301f53f814469876a9919d4ca9c76",
            "d97e48f2152d4c328741bca9dd0e0fff",
            "23bbc3a468094ca6af82e7e2d540f1a9",
            "35c979ecb3f540d98100323bae495a0a"
          ]
        },
        "id": "-gJeHXFmvdYm",
        "outputId": "b20e03e2-b124-421a-889f-f5ec893693b6"
      },
      "source": [
        "model.confusion_matrix(d_test)"
      ],
      "execution_count": 17,
      "outputs": [
        {
          "output_type": "display_data",
          "data": {
            "application/vnd.jupyter.widget-view+json": {
              "model_id": "2a97a2608442420b9e0d3145af7225ee",
              "version_minor": 0,
              "version_major": 2
            },
            "text/plain": [
              "HBox(children=(FloatProgress(value=0.0, max=4500.0), HTML(value='')))"
            ]
          },
          "metadata": {
            "tags": []
          }
        },
        {
          "output_type": "stream",
          "text": [
            "\n"
          ],
          "name": "stdout"
        },
        {
          "output_type": "display_data",
          "data": {
            "image/png": "[encoded data removed]",
            "text/plain": [
              "<Figure size 432x288 with 2 Axes>"
            ]
          },
          "metadata": {
            "tags": [],
            "needs_background": "light"
          }
        }
      ]
    },
    {
      "cell_type": "markdown",
      "metadata": {
        "id": "kvyEHdxEB18o"
      },
      "source": [
        "Результат работы пайплайна обучения и тестирования выше тоже будет оцениваться. Поэтому не забудьте присылать на проверку ноутбук с выполнеными ячейками кода с демонстрациями метрик обучения, графиками и т.п. В этом пайплайне Вам необходимо продемонстрировать работу всех реализованных дополнений, улучшений и т.п.\r\n",
        "\r\n",
        "<font color=\"red\">\r\n",
        "Настоятельно рекомендуется после получения пайплайна с полными результатами обучения экспортировать ноутбук в pdf (файл -> печать) и прислать этот pdf вместе с самим ноутбуком.\r\n",
        "</font>"
      ]
    },
    {
      "cell_type": "markdown",
      "metadata": {
        "id": "RzSKAvVI6uCW"
      },
      "source": [
        "### Тестирование модели на других наборах данных\r\n",
        "\r\n",
        "Ваша модель должна поддерживать тестирование на других наборах данных. Для удобства, Вам предоставляется набор данных test_tiny, который представляет собой малую часть (2% изображений) набора test. Ниже приведен фрагмент кода, который будет осуществлять тестирование для оценивания Вашей модели на дополнительных тестовых наборах данных.\r\n",
        "\r\n",
        "<font color=\"red\">\r\n",
        "Прежде чем отсылать задание на проверку, убедитесь в работоспособности фрагмента кода ниже.\r\n",
        "</font>"
      ]
    },
    {
      "cell_type": "code",
      "metadata": {
        "colab": {
          "base_uri": "https://localhost:8080/",
          "height": 150,
          "referenced_widgets": [
            "2562a7d256e5499b94b19faec5335b66",
            "8f6cadce14614f99b83aecfde277013c",
            "ba9f200b93ce491cb80f56db3db87b80",
            "093523c5905f460f871006594bf5a9c0",
            "6454f15722f2446f9a7156b6dd5c6efc",
            "2a6d9ea6f4c74ae49456c6eb5e164b26",
            "3d99bbea423c47cd9eddb84e6be7bb5f",
            "038126db2763497f84818ae474e055a4"
          ]
        },
        "id": "sdY3uTt87tqv",
        "outputId": "dfc65ba4-a86f-4aef-ae48-eae34982dfe8"
      },
      "source": [
        "final_model = Model()\r\n",
        "final_model.load('best')\r\n",
        "d_test_small = Dataset('test_small', PROJECT_DIR)\r\n",
        "pred = model.test_on_dataset(d_test_small)\r\n",
        "Metrics.print_all(d_test_small.labels, pred, 'test-small')"
      ],
      "execution_count": 18,
      "outputs": [
        {
          "output_type": "stream",
          "text": [
            "Loading dataset test_small from npz.\n",
            "Done. Dataset test_small consists of 1800 images.\n"
          ],
          "name": "stdout"
        },
        {
          "output_type": "display_data",
          "data": {
            "application/vnd.jupyter.widget-view+json": {
              "model_id": "2562a7d256e5499b94b19faec5335b66",
              "version_minor": 0,
              "version_major": 2
            },
            "text/plain": [
              "HBox(children=(FloatProgress(value=0.0, max=1800.0), HTML(value='')))"
            ]
          },
          "metadata": {
            "tags": []
          }
        },
        {
          "output_type": "stream",
          "text": [
            "\n",
            "metrics for test-small:\n",
            "\t accuracy 0.9628:\n",
            "\t balanced accuracy 0.9628:\n"
          ],
          "name": "stdout"
        }
      ]
    },
    {
      "cell_type": "markdown",
      "metadata": {
        "id": "lPvyj4gscU10"
      },
      "source": [
        "Отмонтировать Google Drive."
      ]
    },
    {
      "cell_type": "code",
      "metadata": {
        "id": "NfX35zNSvFWn"
      },
      "source": [
        "drive.flush_and_unmount()"
      ],
      "execution_count": 19,
      "outputs": []
    },
    {
      "cell_type": "markdown",
      "metadata": {
        "id": "RMyDxCDCspcI"
      },
      "source": [
        "---\r\n",
        "# Дополнительные \"полезности\"\r\n",
        "\r\n",
        "Ниже приведены примеры использования различных функций и библиотек, которые могут быть полезны при выполнении данного практического задания."
      ]
    },
    {
      "cell_type": "markdown",
      "metadata": {
        "id": "VvLwSttCs1rB"
      },
      "source": [
        "### Измерение времени работы кода\r\n",
        "\r\n",
        "Измерять время работы какой-либо функции можно легко и непринужденно при помощи функции timeit из соответствующего модуля:"
      ]
    },
    {
      "cell_type": "code",
      "metadata": {
        "id": "-HnLVhwE9C9S",
        "colab": {
          "base_uri": "https://localhost:8080/"
        },
        "outputId": "6b5ce789-ebb9-4068-cea9-b1041dd16d4e"
      },
      "source": [
        "import timeit\n",
        "\n",
        "def factorial(n):\n",
        "    res = 1\n",
        "    for i in range(1, n + 1):\n",
        "        res *= i\n",
        "    return res\n",
        "\n",
        "\n",
        "def f():\n",
        "    return factorial(n=1000)\n",
        "\n",
        "n_runs = 128\n",
        "print(f'Function f is caluclated {n_runs} times in {timeit.timeit(f, number=n_runs)}s.')"
      ],
      "execution_count": null,
      "outputs": [
        {
          "output_type": "stream",
          "text": [
            "Function f is caluclated 128 times in 0.03538683599981596s.\n"
          ],
          "name": "stdout"
        }
      ]
    },
    {
      "cell_type": "markdown",
      "metadata": {
        "id": "fibGVEdguOOi"
      },
      "source": [
        "### Scikit-learn\r\n",
        "\r\n",
        "Для использования \"классических\" алгоритмов машинного обучения рекомендуется использовать библиотеку scikit-learn (https://scikit-learn.org/stable/). Пример классификации изображений цифр из набора данных MNIST при помощи классификатора SVM:"
      ]
    },
    {
      "cell_type": "code",
      "metadata": {
        "colab": {
          "base_uri": "https://localhost:8080/",
          "height": 1101
        },
        "id": "vXHnBzEfunAO",
        "outputId": "e8a38dde-238f-4af9-b1b6-bb86ee949574"
      },
      "source": [
        "# Standard scientific Python imports\r\n",
        "import matplotlib.pyplot as plt\r\n",
        "\r\n",
        "# Import datasets, classifiers and performance metrics\r\n",
        "from sklearn import datasets, svm, metrics\r\n",
        "from sklearn.model_selection import train_test_split\r\n",
        "\r\n",
        "# The digits dataset\r\n",
        "digits = datasets.load_digits()\r\n",
        "\r\n",
        "# The data that we are interested in is made of 8x8 images of digits, let's\r\n",
        "# have a look at the first 4 images, stored in the `images` attribute of the\r\n",
        "# dataset.  If we were working from image files, we could load them using\r\n",
        "# matplotlib.pyplot.imread.  Note that each image must have the same size. For these\r\n",
        "# images, we know which digit they represent: it is given in the 'target' of\r\n",
        "# the dataset.\r\n",
        "_, axes = plt.subplots(2, 4)\r\n",
        "images_and_labels = list(zip(digits.images, digits.target))\r\n",
        "for ax, (image, label) in zip(axes[0, :], images_and_labels[:4]):\r\n",
        "    ax.set_axis_off()\r\n",
        "    ax.imshow(image, cmap=plt.cm.gray_r, interpolation='nearest')\r\n",
        "    ax.set_title('Training: %i' % label)\r\n",
        "\r\n",
        "# To apply a classifier on this data, we need to flatten the image, to\r\n",
        "# turn the data in a (samples, feature) matrix:\r\n",
        "n_samples = len(digits.images)\r\n",
        "data = digits.images.reshape((n_samples, -1))\r\n",
        "\r\n",
        "# Create a classifier: a support vector classifier\r\n",
        "classifier = svm.SVC(gamma=0.001)\r\n",
        "\r\n",
        "# Split data into train and test subsets\r\n",
        "X_train, X_test, y_train, y_test = train_test_split(\r\n",
        "    data, digits.target, test_size=0.5, shuffle=False)\r\n",
        "\r\n",
        "# We learn the digits on the first half of the digits\r\n",
        "classifier.fit(X_train, y_train)\r\n",
        "\r\n",
        "# Now predict the value of the digit on the second half:\r\n",
        "predicted = classifier.predict(X_test)\r\n",
        "\r\n",
        "images_and_predictions = list(zip(digits.images[n_samples // 2:], predicted))\r\n",
        "for ax, (image, prediction) in zip(axes[1, :], images_and_predictions[:4]):\r\n",
        "    ax.set_axis_off()\r\n",
        "    ax.imshow(image, cmap=plt.cm.gray_r, interpolation='nearest')\r\n",
        "    ax.set_title('Prediction: %i' % prediction)\r\n",
        "\r\n",
        "print(\"Classification report for classifier %s:\\n%s\\n\"\r\n",
        "      % (classifier, metrics.classification_report(y_test, predicted)))\r\n",
        "disp = metrics.plot_confusion_matrix(classifier, X_test, y_test)\r\n",
        "disp.figure_.suptitle(\"Confusion Matrix\")\r\n",
        "print(\"Confusion matrix:\\n%s\" % disp.confusion_matrix)\r\n",
        "\r\n",
        "plt.show()"
      ],
      "execution_count": null,
      "outputs": [
        {
          "output_type": "stream",
          "text": [
            "Classification report for classifier SVC(C=1.0, break_ties=False, cache_size=200, class_weight=None, coef0=0.0,\n",
            "    decision_function_shape='ovr', degree=3, gamma=0.001, kernel='rbf',\n",
            "    max_iter=-1, probability=False, random_state=None, shrinking=True,\n",
            "    tol=0.001, verbose=False):\n",
            "              precision    recall  f1-score   support\n",
            "\n",
            "           0       1.00      0.99      0.99        88\n",
            "           1       0.99      0.97      0.98        91\n",
            "           2       0.99      0.99      0.99        86\n",
            "           3       0.98      0.87      0.92        91\n",
            "           4       0.99      0.96      0.97        92\n",
            "           5       0.95      0.97      0.96        91\n",
            "           6       0.99      0.99      0.99        91\n",
            "           7       0.96      0.99      0.97        89\n",
            "           8       0.94      1.00      0.97        88\n",
            "           9       0.93      0.98      0.95        92\n",
            "\n",
            "    accuracy                           0.97       899\n",
            "   macro avg       0.97      0.97      0.97       899\n",
            "weighted avg       0.97      0.97      0.97       899\n",
            "\n",
            "\n",
            "Confusion matrix:\n",
            "[[87  0  0  0  1  0  0  0  0  0]\n",
            " [ 0 88  1  0  0  0  0  0  1  1]\n",
            " [ 0  0 85  1  0  0  0  0  0  0]\n",
            " [ 0  0  0 79  0  3  0  4  5  0]\n",
            " [ 0  0  0  0 88  0  0  0  0  4]\n",
            " [ 0  0  0  0  0 88  1  0  0  2]\n",
            " [ 0  1  0  0  0  0 90  0  0  0]\n",
            " [ 0  0  0  0  0  1  0 88  0  0]\n",
            " [ 0  0  0  0  0  0  0  0 88  0]\n",
            " [ 0  0  0  1  0  1  0  0  0 90]]\n"
          ],
          "name": "stdout"
        },
        {
          "output_type": "display_data",
          "data": {
            "image/png": "[encoded data removed]",
            "text/plain": [
              "<Figure size 432x288 with 8 Axes>"
            ]
          },
          "metadata": {
            "tags": [],
            "needs_background": "light"
          }
        },
        {
          "output_type": "display_data",
          "data": {
            "image/png": "[encoded data removed]",
            "text/plain": [
              "<Figure size 432x288 with 2 Axes>"
            ]
          },
          "metadata": {
            "tags": [],
            "needs_background": "light"
          }
        }
      ]
    },
    {
      "cell_type": "markdown",
      "metadata": {
        "id": "Uu3Dny5zxcVy"
      },
      "source": [
        "### Scikit-image\r\n",
        "\r\n",
        "Реализовывать различные операции для работы с изображениями можно как самостоятельно, работая с массивами numpy, так и используя специализированные библиотеки, например, scikit-image (https://scikit-image.org/). Ниже приведен пример использования Canny edge detector."
      ]
    },
    {
      "cell_type": "code",
      "metadata": {
        "colab": {
          "base_uri": "https://localhost:8080/",
          "height": 192
        },
        "id": "5TZvy_d7xc0B",
        "outputId": "013d39c1-59ce-45ce-aa17-1db79b03ff77"
      },
      "source": [
        "import numpy as np\r\n",
        "import matplotlib.pyplot as plt\r\n",
        "from scipy import ndimage as ndi\r\n",
        "\r\n",
        "from skimage import feature\r\n",
        "\r\n",
        "\r\n",
        "# Generate noisy image of a square\r\n",
        "im = np.zeros((128, 128))\r\n",
        "im[32:-32, 32:-32] = 1\r\n",
        "\r\n",
        "im = ndi.rotate(im, 15, mode='constant')\r\n",
        "im = ndi.gaussian_filter(im, 4)\r\n",
        "im += 0.2 * np.random.random(im.shape)\r\n",
        "\r\n",
        "# Compute the Canny filter for two values of sigma\r\n",
        "edges1 = feature.canny(im)\r\n",
        "edges2 = feature.canny(im, sigma=3)\r\n",
        "\r\n",
        "# display results\r\n",
        "fig, (ax1, ax2, ax3) = plt.subplots(nrows=1, ncols=3, figsize=(8, 3),\r\n",
        "                                    sharex=True, sharey=True)\r\n",
        "\r\n",
        "ax1.imshow(im, cmap=plt.cm.gray)\r\n",
        "ax1.axis('off')\r\n",
        "ax1.set_title('noisy image', fontsize=20)\r\n",
        "\r\n",
        "ax2.imshow(edges1, cmap=plt.cm.gray)\r\n",
        "ax2.axis('off')\r\n",
        "ax2.set_title(r'Canny filter, $\\sigma=1$', fontsize=20)\r\n",
        "\r\n",
        "ax3.imshow(edges2, cmap=plt.cm.gray)\r\n",
        "ax3.axis('off')\r\n",
        "ax3.set_title(r'Canny filter, $\\sigma=3$', fontsize=20)\r\n",
        "\r\n",
        "fig.tight_layout()\r\n",
        "\r\n",
        "plt.show()"
      ],
      "execution_count": null,
      "outputs": [
        {
          "output_type": "display_data",
          "data": {
            "image/png": "[encoded data removed]",
            "text/plain": [
              "<Figure size 576x216 with 3 Axes>"
            ]
          },
          "metadata": {
            "tags": [],
            "needs_background": "light"
          }
        }
      ]
    },
    {
      "cell_type": "markdown",
      "metadata": {
        "id": "hiEWhGUQRGoH"
      },
      "source": [
        "### Tensorflow 2\r\n",
        "\r\n",
        "Для создания и обучения нейросетевых моделей можно использовать фреймворк глубокого обучения Tensorflow 2. Ниже приведен пример простейшей нейроной сети, использующейся для классификации изображений из набора данных MNIST."
      ]
    },
    {
      "cell_type": "code",
      "metadata": {
        "colab": {
          "base_uri": "https://localhost:8080/"
        },
        "id": "kDwLG7A1ReNy",
        "outputId": "60c5afac-17c2-4b98-d1b2-af77afee4ac0"
      },
      "source": [
        "# Install TensorFlow\r\n",
        "\r\n",
        "import tensorflow as tf\r\n",
        "\r\n",
        "mnist = tf.keras.datasets.mnist\r\n",
        "\r\n",
        "(x_train, y_train), (x_test, y_test) = mnist.load_data()\r\n",
        "x_train, x_test = x_train / 255.0, x_test / 255.0\r\n",
        "\r\n",
        "model = tf.keras.models.Sequential([\r\n",
        "  tf.keras.layers.Flatten(input_shape=(28, 28)),\r\n",
        "  tf.keras.layers.Dense(128, activation='relu'),\r\n",
        "  tf.keras.layers.Dropout(0.2),\r\n",
        "  tf.keras.layers.Dense(10, activation='softmax')\r\n",
        "])\r\n",
        "\r\n",
        "model.compile(optimizer='adam',\r\n",
        "              loss='sparse_categorical_crossentropy',\r\n",
        "              metrics=['accuracy'])\r\n",
        "\r\n",
        "model.fit(x_train, y_train, epochs=5)\r\n",
        "\r\n",
        "model.evaluate(x_test,  y_test, verbose=2)"
      ],
      "execution_count": null,
      "outputs": [
        {
          "output_type": "stream",
          "text": [
            "Epoch 1/5\n",
            "1875/1875 [==============================] - 3s 2ms/step - loss: 0.4801 - accuracy: 0.8604\n",
            "Epoch 2/5\n",
            "1875/1875 [==============================] - 3s 2ms/step - loss: 0.1451 - accuracy: 0.9577\n",
            "Epoch 3/5\n",
            "1875/1875 [==============================] - 3s 2ms/step - loss: 0.1069 - accuracy: 0.9681\n",
            "Epoch 4/5\n",
            "1875/1875 [==============================] - 3s 2ms/step - loss: 0.0849 - accuracy: 0.9739\n",
            "Epoch 5/5\n",
            "1875/1875 [==============================] - 3s 2ms/step - loss: 0.0736 - accuracy: 0.9765\n",
            "313/313 - 0s - loss: 0.0753 - accuracy: 0.9769\n"
          ],
          "name": "stdout"
        },
        {
          "output_type": "execute_result",
          "data": {
            "text/plain": [
              "[0.07534847408533096, 0.9768999814987183]"
            ]
          },
          "metadata": {
            "tags": []
          },
          "execution_count": 3
        }
      ]
    },
    {
      "cell_type": "markdown",
      "metadata": {
        "id": "IbvktmLwRu8g"
      },
      "source": [
        "<font color=\"red\">\r\n",
        "Для эффективной работы с моделями глубокого обучения убедитесь в том, что в текущей среде Google Colab используется аппаратный ускоритель GPU или TPU. Для смены среды выберите \"среда выполнения\" -> \"сменить среду выполнения\".\r\n",
        "</font>"
      ]
    },
    {
      "cell_type": "markdown",
      "metadata": {
        "id": "nJVNOOU9Sjyf"
      },
      "source": [
        "Большое количество туториалов и примеров с кодом на Tensorflow 2 можно найти на официальном сайте https://www.tensorflow.org/tutorials?hl=ru. "
      ]
    },
    {
      "cell_type": "markdown",
      "metadata": {
        "id": "GVPs3pYpS0U1"
      },
      "source": [
        "Также, Вам может понадобиться написать собственный генератор данных для Tensorflow 2. Скорее всего он будет достаточно простым, и его легко можно будет реализовать, используя официальную документацию TensorFlow 2. Но, на всякий случай (если не удлось сразу разобраться или хочется вникнуть в тему более глубоко), можете посмотреть следующий отличный туториал: https://stanford.edu/~shervine/blog/keras-how-to-generate-data-on-the-fly."
      ]
    },
    {
      "cell_type": "markdown",
      "metadata": {
        "id": "lwI-T0IXyN84"
      },
      "source": [
        "### Numba\r\n",
        "\r\n",
        "В некоторых ситуациях, при ручных реализациях графовых алгоритмов, выполнение многократных вложенных циклов for в python можно существенно ускорить, используя JIT-компилятор Numba (https://numba.pydata.org/).\r\n",
        "Примеры использования Numba в Google Colab можно найти тут:\r\n",
        "1. https://colab.research.google.com/github/cbernet/maldives/blob/master/numba/numba_cuda.ipynb\r\n",
        "2. https://colab.research.google.com/github/evaneschneider/parallel-programming/blob/master/COMPASS_gpu_intro.ipynb \r\n",
        "\r\n",
        "> Пожалуйста, если Вы решили использовать Numba для решения этого практического задания, еще раз подумайте, нужно ли это Вам, и есть ли возможность реализовать требуемую функциональность иным способом. Используйте Numba только при реальной необходимости.\r\n",
        "\r\n"
      ]
    },
    {
      "cell_type": "markdown",
      "metadata": {
        "id": "BxAJ00A76LcF"
      },
      "source": [
        "### Работа с zip архивами в Google Drive\r\n",
        "\r\n",
        "Запаковка и распаковка zip архивов может пригодиться при сохранении и загрузки Вашей модели. Ниже приведен фрагмент кода, иллюстрирующий помещение нескольких файлов в zip архив с последующим чтением файлов из него. Все действия с директориями, файлами и архивами должны осущетвляться с примонтированным Google Drive.\r\n"
      ]
    },
    {
      "cell_type": "markdown",
      "metadata": {
        "id": "ZJiKndOpPu_e"
      },
      "source": [
        "Создадим 2 изображения, поместим их в директорию tmp внутри PROJECT_DIR, запакуем директорию tmp в архив tmp.zip."
      ]
    },
    {
      "cell_type": "code",
      "metadata": {
        "colab": {
          "base_uri": "https://localhost:8080/"
        },
        "id": "CRwgPtv-6nMP",
        "outputId": "8cbdbd6a-5d7f-49b3-f8b6-9006849f2d70"
      },
      "source": [
        "arr1 = np.random.rand(100, 100, 3) * 255\r\n",
        "arr2 = np.random.rand(100, 100, 3) * 255\r\n",
        "\r\n",
        "img1 = Image.fromarray(arr1.astype('uint8'))\r\n",
        "img2 = Image.fromarray(arr2.astype('uint8'))\r\n",
        "\r\n",
        "p = \"/content/drive/MyDrive/\" + PROJECT_DIR\r\n",
        "\r\n",
        "if not (Path(p) / 'tmp').exists():\r\n",
        "    (Path(p) / 'tmp').mkdir()\r\n",
        "\r\n",
        "img1.save(str(Path(p) / 'tmp' / 'img1.png'))\r\n",
        "img2.save(str(Path(p) / 'tmp' / 'img2.png'))\r\n",
        "\r\n",
        "%cd $p\r\n",
        "!zip -r \"tmp.zip\" \"tmp\""
      ],
      "execution_count": null,
      "outputs": [
        {
          "output_type": "stream",
          "text": [
            "/content/drive/MyDrive/dev/prak_nn_1_data\n",
            "  adding: tmp/ (stored 0%)\n",
            "  adding: tmp/img1.png (stored 0%)\n",
            "  adding: tmp/img2.png (stored 0%)\n"
          ],
          "name": "stdout"
        }
      ]
    },
    {
      "cell_type": "markdown",
      "metadata": {
        "id": "MykrBSWNQQlq"
      },
      "source": [
        "Распакуем архив tmp.zip в директорию tmp2 в PROJECT_DIR. Теперь внутри директории tmp2 содержится директория tmp, внутри которой находятся 2 изображения."
      ]
    },
    {
      "cell_type": "code",
      "metadata": {
        "colab": {
          "base_uri": "https://localhost:8080/"
        },
        "id": "CwSWrYIWMAus",
        "outputId": "a2d4a9c7-ba0b-4373-ba87-3cae7ab22e06"
      },
      "source": [
        "p = \"/content/drive/MyDrive/\" + PROJECT_DIR\r\n",
        "%cd $p\r\n",
        "!unzip -uq \"tmp.zip\" -d \"tmp2\""
      ],
      "execution_count": null,
      "outputs": [
        {
          "output_type": "stream",
          "text": [
            "/content/drive/MyDrive/dev/prak_nn_1_data\n"
          ],
          "name": "stdout"
        }
      ]
    }
  ]
}